{
 "cells": [
  {
   "cell_type": "code",
   "execution_count": 1,
   "id": "a745cccb-0da3-48f1-9bef-9bfd103686e2",
   "metadata": {},
   "outputs": [],
   "source": [
    "import numpy as np\n",
    "import matplotlib\n",
    "import matplotlib.pyplot as plt\n",
    "import subprocess\n",
    "from tqdm import tqdm\n",
    "import time"
   ]
  },
  {
   "cell_type": "markdown",
   "id": "1b571361-41a2-4bd6-9ee2-86f3c028fd93",
   "metadata": {},
   "source": [
    "## Tools for loading the program versions"
   ]
  },
  {
   "cell_type": "code",
   "execution_count": 2,
   "id": "4502a17c-265e-480c-b490-6039438e45a4",
   "metadata": {},
   "outputs": [],
   "source": [
    "\n",
    "def compile_version(version, output=False):\n",
    "    try:\n",
    "        result = subprocess.check_output(f\"module load daint-gpu && module switch PrgEnv-gnu PrgEnv-cray && module load perftools-lite && cd fortran_programs && make VERSION={version} \", shell = True, executable = \"/bin/bash\", stderr = subprocess.STDOUT)\n",
    "        print(f\"Version {version} succeeded\")\n",
    "\n",
    "    except subprocess.CalledProcessError as cpe:\n",
    "        result = cpe.output\n",
    "\n",
    "    finally:   \n",
    "        if output:\n",
    "            for line in result.splitlines():\n",
    "                print(line.decode())\n",
    "\n",
    "def compile_all_versions(versions, output=False, clean_old=False):\n",
    "    if clean_old:\n",
    "        print(\"Remove all old outputs\")\n",
    "        subprocess.run(f\"cd fortran_programs && make clean\", shell = True, executable = \"/bin/bash\", stderr = subprocess.STDOUT)\n",
    "    else:\n",
    "        print(\"Not removing previously compiled programs\")\n",
    "    for version in versions:\n",
    "        compile_version(version, output)"
   ]
  },
  {
   "cell_type": "code",
   "execution_count": 3,
   "id": "681e8eff-7ec6-4d71-9806-8a2575bda18d",
   "metadata": {},
   "outputs": [
    {
     "name": "stdout",
     "output_type": "stream",
     "text": [
      "\u001b[01m\u001b[Kfortran_programs/m_utils.F90:11:8:\u001b[m\u001b[K\n",
      "\n",
      "   11 |     use mpi, only : MPI_COMM_WORLD, MPI_Abort\n",
      "      |        \u001b[01;31m\u001b[K1\u001b[m\u001b[K\n",
      "\u001b[01;31m\u001b[KFatal Error:\u001b[m\u001b[K Cannot open module file '\u001b[01m\u001b[Kmpi.mod\u001b[m\u001b[K' for reading at (1): No such file or directory\n",
      "compilation terminated.\n",
      "\u001b[01m\u001b[Kfortran_programs/stencil2d-GPU.F90:11:8:\u001b[m\u001b[K\n",
      "\n",
      "   11 |     use m_utils, only: timer_start, timer_end, timer_get, is_master, num_rank, write_field_to_file\n",
      "      |        \u001b[01;31m\u001b[K1\u001b[m\u001b[K\n",
      "\u001b[01;31m\u001b[KFatal Error:\u001b[m\u001b[K Cannot open module file '\u001b[01m\u001b[Km_utils.mod\u001b[m\u001b[K' for reading at (1): No such file or directory\n",
      "compilation terminated.\n"
     ]
    }
   ],
   "source": [
    "!gfortran -fopenacc -c fortran_programs/m_utils.F90 -o fortran_programs/m_utils.o\n",
    "!gfortran -fopenacc -o fortran_programs/stencil2d-GPU fortran_programs/stencil2d-GPU.F90"
   ]
  },
  {
   "cell_type": "code",
   "execution_count": 4,
   "id": "9a57ad35-aba9-40f8-9f6a-5ff6c33549c0",
   "metadata": {},
   "outputs": [],
   "source": [
    "versions = [\"GPU\",\"5th_GPT\",\"OpenMP_GPT\",\"orig\",\"kblock\"]"
   ]
  },
  {
   "cell_type": "code",
   "execution_count": 5,
   "id": "9d80a7ab-500c-4739-ab8f-a1cc3f7d1f48",
   "metadata": {},
   "outputs": [
    {
     "name": "stdout",
     "output_type": "stream",
     "text": [
      "Remove all old outputs\n",
      "rm -f -rf *~ *.o *.mod *.MOD *.i core.* *.out *.lst *.x *.x+orig *.x+[0-9]* *.dat *.report result_*.py report*.txt\n",
      "Version GPU succeeded\n",
      "Version 5th_GPT succeeded\n",
      "Version OpenMP_GPT succeeded\n",
      "Version orig succeeded\n",
      "Version kblock succeeded\n"
     ]
    }
   ],
   "source": [
    "compile_all_versions(versions, output=False, clean_old=True)"
   ]
  },
  {
   "cell_type": "code",
   "execution_count": 6,
   "id": "84e28cca-ace8-42ae-9e08-eb2252d73781",
   "metadata": {},
   "outputs": [],
   "source": [
    "def execute_version(version, nx=64, ny=64, nz=64, num_iter=1024, attempt=0):\n",
    "    try:\n",
    "        result = subprocess.check_output(f\"cd fortran_programs && srun -n 12 ./stencil2d-{version}.x+orig --nx {nx} --ny {ny} --nz {nz} --num_iter {num_iter}\", shell = True, executable = \"/bin/bash\", stderr = subprocess.STDOUT)\n",
    "    except subprocess.CalledProcessError as cpe:\n",
    "        print(\"there was an error\")\n",
    "        result = cpe.output\n",
    "    code_string = result.decode()\n",
    "    if \"Job\" in code_string and attempt < 5: \n",
    "        print(f\"Job failed with the code {code_string}\")\n",
    "        print(f\"It was attempt {attempt}, trying again\")\n",
    "        time.sleep(1)  # not sure if needed, but maybe give server some time to rest? \n",
    "        return execute_version(version, nx=nx, ny=ny, nz=nz, num_iter=num_iter, attempt=attempt+1)\n",
    "    elif \"Job\" in code_string and attempt == 5:\n",
    "        print(\"Servers are busy, ending now\")\n",
    "        return\n",
    "    exec(code_string, None, globals() )\n",
    "    return data\n",
    "\n",
    "def execute_versions(versions, nx=64, ny=64, nz=64, num_iter=1024):\n",
    "    result = {}\n",
    "    for version in versions:\n",
    "        data = execute_version(version, nx=nx, ny=ny, nz=nz, num_iter=num_iter)\n",
    "        result[version] = data\n",
    "    return result\n",
    "    "
   ]
  },
  {
   "cell_type": "code",
   "execution_count": 7,
   "id": "0a25a729-234b-4701-947a-e5b6c81386c6",
   "metadata": {},
   "outputs": [
    {
     "name": "stdout",
     "output_type": "stream",
     "text": [
      "[[ 12.         64.         64.         64.        128.          0.3155266]]\n"
     ]
    }
   ],
   "source": [
    "result = execute_version(\"GPU\", num_iter=128)\n",
    "print(result)"
   ]
  },
  {
   "cell_type": "code",
   "execution_count": 8,
   "id": "fd4b8ca1-3772-444f-a83d-cc211f58431d",
   "metadata": {},
   "outputs": [],
   "source": [
    "def read_field_from_file(filename, num_halo=None):\n",
    "    (rank, nbits, num_halo, nx, ny, nz) = np.fromfile(filename, dtype=np.int32, count=6)\n",
    "    offset=(3 + rank) * 32 // nbits\n",
    "    data = np.fromfile(filename, dtype=np.float32 if nbits == 32 else np.float64, \\\n",
    "                       count=nz * ny * nx + offset)\n",
    "    if rank == 3:\n",
    "        return np.reshape(data[offset:], (nz, ny, nx))\n",
    "    else:\n",
    "        return np.reshape(data[offset:], (ny, nx))\n",
    "\n",
    "def validate_results():\n",
    "    fig, axs = plt.subplots(1, 2, figsize=(12, 4))\n",
    "\n",
    "    in_field = read_field_from_file('fortran_programs/in_field.dat')\n",
    "    k_lev = in_field.shape[0] // 2\n",
    "    im1 = axs[0].imshow(in_field[k_lev, :, :], origin='lower', vmin=-0.1, vmax=1.1);\n",
    "    fig.colorbar(im1, ax=axs[0]);\n",
    "    axs[0].set_title('Initial condition (k = {})'.format(k_lev));\n",
    "\n",
    "    out_field = read_field_from_file('fortran_programs/out_field.dat')\n",
    "    k_lev = out_field.shape[0] // 2\n",
    "    im2 = axs[1].imshow(out_field[k_lev, :, :], origin='lower', vmin=-0.1, vmax=1.1);\n",
    "    fig.colorbar(im2, ax=axs[1]);\n",
    "    axs[1].set_title('Final result (k = {})'.format(k_lev));\n",
    "    \n",
    "    plt.show()"
   ]
  },
  {
   "cell_type": "code",
   "execution_count": 9,
   "id": "d9a94cdf-0ab4-4a3b-8ac9-a437c141a913",
   "metadata": {},
   "outputs": [
    {
     "data": {
      "image/png": "[encoded data removed]",
      "text/plain": [
       "<Figure size 864x288 with 4 Axes>"
      ]
     },
     "metadata": {
      "needs_background": "light"
     },
     "output_type": "display_data"
    }
   ],
   "source": [
    "validate_results()"
   ]
  },
  {
   "cell_type": "code",
   "execution_count": 10,
   "id": "994b2981-fc97-45b5-8f35-f8f28335b91e",
   "metadata": {},
   "outputs": [],
   "source": [
    "def get_scan_data(version, nxs, nys, nz, num_iter):\n",
    "    data_sizes = []\n",
    "    times = []\n",
    "    print(f\"Executing version {version}\")\n",
    "    for nx in tqdm(nxs):\n",
    "        for ny in nys: \n",
    "            runtime = execute_version(version, nx=nx, ny=ny, nz=nz, num_iter=num_iter)[0][-1]\n",
    "            data_sizes.append(nx * ny * nz * 3 * 4)\n",
    "            times.append(runtime)\n",
    "    return np.array(data_sizes), np.array(times)"
   ]
  },
  {
   "cell_type": "code",
   "execution_count": 11,
   "id": "5a9b6d9a-d946-4ba6-9e4e-a31a80cccd58",
   "metadata": {},
   "outputs": [
    {
     "name": "stdout",
     "output_type": "stream",
     "text": [
      "Executing version GPU\n"
     ]
    },
    {
     "name": "stderr",
     "output_type": "stream",
     "text": [
      "100%|██████████| 4/4 [00:23<00:00,  5.98s/it]\n"
     ]
    },
    {
     "name": "stdout",
     "output_type": "stream",
     "text": [
      "Executing version 5th_GPT\n"
     ]
    },
    {
     "name": "stderr",
     "output_type": "stream",
     "text": [
      " 75%|███████▌  | 3/4 [00:24<00:08,  8.25s/it]"
     ]
    },
    {
     "name": "stdout",
     "output_type": "stream",
     "text": [
      "Job failed with the code srun: Job 55853908 step creation temporarily disabled, retrying (Requested nodes are busy)\n",
      "srun: Step created for job 55853908\n",
      "# ranks nx ny nz num_iter time\n",
      "data = np.array( [ \\\n",
      "[   12,   64,   64,   64,     128,  0.2755261E+00], \\\n",
      "] )\n",
      "\n",
      "It was attempt 0, trying again\n"
     ]
    },
    {
     "name": "stderr",
     "output_type": "stream",
     "text": [
      "100%|██████████| 4/4 [00:36<00:00,  9.21s/it]\n"
     ]
    },
    {
     "name": "stdout",
     "output_type": "stream",
     "text": [
      "Executing version orig\n"
     ]
    },
    {
     "name": "stderr",
     "output_type": "stream",
     "text": [
      " 25%|██▌       | 1/4 [00:07<00:21,  7.18s/it]"
     ]
    },
    {
     "name": "stdout",
     "output_type": "stream",
     "text": [
      "Job failed with the code srun: Job 55853908 step creation temporarily disabled, retrying (Requested nodes are busy)\n",
      "srun: Step created for job 55853908\n",
      "# ranks nx ny nz num_iter time\n",
      "data = np.array( [ \\\n",
      "[   12,   32,   64,   64,     128,  0.3523628E-01], \\\n",
      "] )\n",
      "\n",
      "It was attempt 0, trying again\n"
     ]
    },
    {
     "name": "stderr",
     "output_type": "stream",
     "text": [
      "100%|██████████| 4/4 [00:35<00:00,  8.90s/it]\n"
     ]
    },
    {
     "name": "stdout",
     "output_type": "stream",
     "text": [
      "Executing version kblock\n"
     ]
    },
    {
     "name": "stderr",
     "output_type": "stream",
     "text": [
      " 25%|██▌       | 1/4 [00:08<00:24,  8.13s/it]"
     ]
    },
    {
     "name": "stdout",
     "output_type": "stream",
     "text": [
      "Job failed with the code srun: Job 55853908 step creation temporarily disabled, retrying (Requested nodes are busy)\n",
      "srun: Step created for job 55853908\n",
      "# ranks nx ny nz num_iter time\n",
      "data = np.array( [ \\\n",
      "[   12,   32,   16,   64,     128,  0.8503377E-02], \\\n",
      "] )\n",
      "\n",
      "It was attempt 0, trying again\n"
     ]
    },
    {
     "name": "stderr",
     "output_type": "stream",
     "text": [
      "100%|██████████| 4/4 [00:31<00:00,  7.79s/it]\n"
     ]
    },
    {
     "name": "stdout",
     "output_type": "stream",
     "text": [
      "Executing version OpenMP_GPT\n"
     ]
    },
    {
     "name": "stderr",
     "output_type": "stream",
     "text": [
      "  0%|          | 0/4 [00:00<?, ?it/s]"
     ]
    },
    {
     "name": "stdout",
     "output_type": "stream",
     "text": [
      "Job failed with the code srun: Job 55853908 step creation temporarily disabled, retrying (Requested nodes are busy)\n",
      "srun: Step created for job 55853908\n",
      "# ranks nx ny nz num_iter time\n",
      "data = np.array( [ \\\n",
      "[   12,   16,   16,   64,     128,  0.5850255E-02], \\\n",
      "] )\n",
      "\n",
      "It was attempt 0, trying again\n"
     ]
    },
    {
     "name": "stderr",
     "output_type": "stream",
     "text": [
      " 75%|███████▌  | 3/4 [00:23<00:07,  7.60s/it]"
     ]
    },
    {
     "name": "stdout",
     "output_type": "stream",
     "text": [
      "Job failed with the code srun: Job 55853908 step creation temporarily disabled, retrying (Requested nodes are busy)\n",
      "srun: Step created for job 55853908\n",
      "# ranks nx ny nz num_iter time\n",
      "data = np.array( [ \\\n",
      "[   12,   64,   48,   64,     128,  0.1674118E+00], \\\n",
      "] )\n",
      "\n",
      "It was attempt 0, trying again\n"
     ]
    },
    {
     "name": "stderr",
     "output_type": "stream",
     "text": [
      "100%|██████████| 4/4 [00:32<00:00,  8.23s/it]\n"
     ]
    },
    {
     "data": {
      "text/plain": [
       "<matplotlib.legend.Legend at 0x155523c56d30>"
      ]
     },
     "execution_count": 11,
     "metadata": {},
     "output_type": "execute_result"
    },
    {
     "data": {
      "image/png": "[encoded data removed]",
      "text/plain": [
       "<Figure size 720x432 with 1 Axes>"
      ]
     },
     "metadata": {
      "needs_background": "light"
     },
     "output_type": "display_data"
    }
   ],
   "source": [
    "nxs = 16 * np.array([1, 2, 3, 4])\n",
    "nys = 16 * np.array([1, 2, 3, 4])\n",
    "nz = 64\n",
    "num_iter = 128\n",
    "versions = [\"GPU\",\"5th_GPT\",\"orig\", \"kblock\",\"OpenMP_GPT\"]\n",
    "colors = [\"yellow\",\"blue\", \"red\",\"green\",\"black\"]\n",
    "for version, color in zip(versions, colors):\n",
    "    data_sizes, times = get_scan_data(version, nxs, nys, nz, num_iter)\n",
    "    plt.loglog(data_sizes/ 1024. / 1024., times / data_sizes * 3 * 4 * 1e6, \".\", label=version, color=color)\n",
    "plt.xlabel( 'Working set size [MB]' );\n",
    "plt.ylabel( 'Runtime / gridpoint [µs]' );\n",
    "plt.grid(visible=True, which='both')\n",
    "fig = matplotlib.pyplot.gcf()\n",
    "fig.set_size_inches(10, 6)\n",
    "plt.legend(loc=\"upper left\")"
   ]
  },
  {
   "cell_type": "code",
   "execution_count": null,
   "id": "7982488b-f9ed-4fa5-98d7-549113ad6acb",
   "metadata": {},
   "outputs": [],
   "source": []
  }
 ],
 "metadata": {
  "kernelspec": {
   "display_name": "HPC4WC_kernel",
   "language": "python",
   "name": "hpc4wc_kernel"
  },
  "language_info": {
   "codemirror_mode": {
    "name": "ipython",
    "version": 3
   },
   "file_extension": ".py",
   "mimetype": "text/x-python",
   "name": "python",
   "nbconvert_exporter": "python",
   "pygments_lexer": "ipython3",
   "version": "3.9.4"
  }
 },
 "nbformat": 4,
 "nbformat_minor": 5
}
