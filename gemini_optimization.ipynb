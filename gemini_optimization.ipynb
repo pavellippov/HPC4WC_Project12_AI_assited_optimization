{
 "cells": [
  {
   "cell_type": "code",
   "execution_count": 14,
   "id": "a745cccb-0da3-48f1-9bef-9bfd103686e2",
   "metadata": {},
   "outputs": [],
   "source": [
    "import numpy as np\n",
    "import os\n",
    "import matplotlib\n",
    "import matplotlib.pyplot as plt\n",
    "import subprocess\n",
    "from tqdm import tqdm\n",
    "import time"
   ]
  },
  {
   "cell_type": "markdown",
   "id": "1b571361-41a2-4bd6-9ee2-86f3c028fd93",
   "metadata": {},
   "source": [
    "## Tools for loading the program versions"
   ]
  },
  {
   "cell_type": "code",
   "execution_count": 2,
   "id": "4502a17c-265e-480c-b490-6039438e45a4",
   "metadata": {},
   "outputs": [],
   "source": [
    "\n",
    "def compile_version(version, output=False):\n",
    "    try:\n",
    "        result = subprocess.check_output(f\"module load daint-gpu && module switch PrgEnv-gnu PrgEnv-cray && module load perftools-lite && cd fortran_programs && make VERSION={version} \", shell = True, executable = \"/bin/bash\", stderr = subprocess.STDOUT)\n",
    "        print(f\"Version {version} succeeded\")\n",
    "\n",
    "    except subprocess.CalledProcessError as cpe:\n",
    "        result = cpe.output\n",
    "\n",
    "    finally:   \n",
    "        if output:\n",
    "            for line in result.splitlines():\n",
    "                print(line.decode())\n",
    "\n",
    "def compile_all_versions(versions, output=False, clean_old=False):\n",
    "    if clean_old:\n",
    "        print(\"Remove all old outputs\")\n",
    "        subprocess.run(f\"cd fortran_programs && make clean\", shell = True, executable = \"/bin/bash\", stderr = subprocess.STDOUT)\n",
    "    else:\n",
    "        print(\"Not removing previously compiled programs\")\n",
    "    for version in versions:\n",
    "        compile_version(version, output)"
   ]
  },
  {
   "cell_type": "code",
   "execution_count": 105,
   "id": "9a57ad35-aba9-40f8-9f6a-5ff6c33549c0",
   "metadata": {},
   "outputs": [],
   "source": [
    "versions = [\"orig\", \"gemini_loop_fusion_v2\", \"gemini_inlining_v2\", \"gemini_openmp\"]"
   ]
  },
  {
   "cell_type": "code",
   "execution_count": 106,
   "id": "9d80a7ab-500c-4739-ab8f-a1cc3f7d1f48",
   "metadata": {},
   "outputs": [
    {
     "name": "stdout",
     "output_type": "stream",
     "text": [
      "Remove all old outputs\n",
      "rm -f -rf *~ *.o *.mod *.MOD *.i core.* *.out *.lst *.x *.x+orig *.x+[0-9]* *.dat *.report result_*.py report*.txt\n",
      "Version orig succeeded\n",
      "ftn -O3 -hfp3 -eZ -ffree -N255 -ec -eC -eI -eF -rm -h omp -h acc -c m_utils.F90\n",
      "ftn -O3 -hfp3 -eZ -ffree -N255 -ec -eC -eI -eF -rm -h omp -h acc -c stencil2d-orig.F90\n",
      "ftn -O3 -hfp3 -eZ -ffree -N255 -ec -eC -eI -eF -rm -h omp -h acc m_utils.o stencil2d-orig.o -o stencil2d-orig.x\n",
      "INFO: creating the PerfTools-instrumented executable 'stencil2d-orig.x' (lite-samples) ...OK\n",
      "cp stencil2d-orig.x stencil2d.x\n",
      "Version gemini_loop_fusion_v2 succeeded\n",
      "ftn -O3 -hfp3 -eZ -ffree -N255 -ec -eC -eI -eF -rm -h omp -h acc -c stencil2d-gemini_loop_fusion_v2.F90\n",
      "ftn -O3 -hfp3 -eZ -ffree -N255 -ec -eC -eI -eF -rm -h omp -h acc m_utils.o stencil2d-gemini_loop_fusion_v2.o -o stencil2d-gemini_loop_fusion_v2.x\n",
      "INFO: creating the PerfTools-instrumented executable 'stencil2d-gemini_loop_fusion_v2.x' (lite-samples) ...OK\n",
      "cp stencil2d-gemini_loop_fusion_v2.x stencil2d.x\n",
      "Version gemini_inlining_v2 succeeded\n",
      "ftn -O3 -hfp3 -eZ -ffree -N255 -ec -eC -eI -eF -rm -h omp -h acc -c stencil2d-gemini_inlining_v2.F90\n",
      "ftn -O3 -hfp3 -eZ -ffree -N255 -ec -eC -eI -eF -rm -h omp -h acc m_utils.o stencil2d-gemini_inlining_v2.o -o stencil2d-gemini_inlining_v2.x\n",
      "INFO: creating the PerfTools-instrumented executable 'stencil2d-gemini_inlining_v2.x' (lite-samples) ...OK\n",
      "cp stencil2d-gemini_inlining_v2.x stencil2d.x\n",
      "Version gemini_openmp succeeded\n",
      "ftn -O3 -hfp3 -eZ -ffree -N255 -ec -eC -eI -eF -rm -h omp -h acc -c stencil2d-gemini_openmp.F90\n",
      "ftn -O3 -hfp3 -eZ -ffree -N255 -ec -eC -eI -eF -rm -h omp -h acc m_utils.o stencil2d-gemini_openmp.o -o stencil2d-gemini_openmp.x\n",
      "INFO: creating the PerfTools-instrumented executable 'stencil2d-gemini_openmp.x' (lite-samples) ...OK\n",
      "cp stencil2d-gemini_openmp.x stencil2d.x\n"
     ]
    }
   ],
   "source": [
    "compile_all_versions(versions, output=True, clean_old=True)"
   ]
  },
  {
   "cell_type": "code",
   "execution_count": 70,
   "id": "84e28cca-ace8-42ae-9e08-eb2252d73781",
   "metadata": {},
   "outputs": [],
   "source": [
    "def execute_version(version, nx=64, ny=64, nz=64, num_iter=1024, attempt=0):\n",
    "    try:\n",
    "        result = subprocess.check_output(f\"cd fortran_programs && srun -n 1 ./stencil2d-{version}.x+orig --nx {nx} --ny {ny} --nz {nz} --num_iter {num_iter}\", shell = True, executable = \"/bin/bash\", stderr = subprocess.STDOUT)\n",
    "    except subprocess.CalledProcessError as cpe:\n",
    "        print(\"there was an error\")\n",
    "        result = cpe.output\n",
    "    code_string = result.decode()\n",
    "    cleaned_up_code_string = ''\n",
    "    if \"Job\" in code_string and attempt < 5: \n",
    "        for line in code_string.split(\"\\n\"):\n",
    "            if \"srun\" not in line: \n",
    "                cleaned_up_code_string +=line\n",
    "    else:\n",
    "        cleaned_up_code_string = code_string\n",
    "    try:\n",
    "        exec(cleaned_up_code_string, None, globals() )\n",
    "    except Exception as e: \n",
    "        print(code_string)\n",
    "        return None\n",
    "    return data\n",
    "\n",
    "def execute_versions(versions, nx=64, ny=64, nz=64, num_iter=1024):\n",
    "    result = {}\n",
    "    for version in versions:\n",
    "        data = execute_version(version, nx=nx, ny=ny, nz=nz, num_iter=num_iter)\n",
    "        result[version] = data\n",
    "    return result\n",
    "    "
   ]
  },
  {
   "cell_type": "code",
   "execution_count": 5,
   "id": "0a25a729-234b-4701-947a-e5b6c81386c6",
   "metadata": {},
   "outputs": [
    {
     "name": "stdout",
     "output_type": "stream",
     "text": [
      "[[ 12.         64.         64.         64.        128.          0.2622809]]\n"
     ]
    }
   ],
   "source": [
    "result = execute_version(\"gemini_loop_fusion_v2\", num_iter=128)\n",
    "print(result)"
   ]
  },
  {
   "cell_type": "code",
   "execution_count": 9,
   "id": "fd4b8ca1-3772-444f-a83d-cc211f58431d",
   "metadata": {},
   "outputs": [],
   "source": [
    "def read_field_from_file(filename, num_halo=None):\n",
    "    (rank, nbits, num_halo, nx, ny, nz) = np.fromfile(filename, dtype=np.int32, count=6)\n",
    "    offset=(3 + rank) * 32 // nbits\n",
    "    data = np.fromfile(filename, dtype=np.float32 if nbits == 32 else np.float64, \\\n",
    "                       count=nz * ny * nx + offset)\n",
    "    if rank == 3:\n",
    "        return np.reshape(data[offset:], (nz, ny, nx))\n",
    "    else:\n",
    "        return np.reshape(data[offset:], (ny, nx))\n",
    "\n",
    "def validate_results():\n",
    "    fig, axs = plt.subplots(1, 2, figsize=(12, 4))\n",
    "\n",
    "    in_field = read_field_from_file('fortran_programs/in_field.dat')\n",
    "    k_lev = in_field.shape[0] // 2\n",
    "    im1 = axs[0].imshow(in_field[k_lev, :, :], origin='lower', vmin=-0.1, vmax=1.1);\n",
    "    fig.colorbar(im1, ax=axs[0]);\n",
    "    axs[0].set_title('Initial condition (k = {})'.format(k_lev));\n",
    "\n",
    "    out_field = read_field_from_file('fortran_programs/out_field.dat')\n",
    "    k_lev = out_field.shape[0] // 2\n",
    "    im2 = axs[1].imshow(out_field[k_lev, :, :], origin='lower', vmin=-0.1, vmax=1.1);\n",
    "    fig.colorbar(im2, ax=axs[1]);\n",
    "    axs[1].set_title('Final result (k = {})'.format(k_lev));\n",
    "    \n",
    "    plt.show()"
   ]
  },
  {
   "cell_type": "code",
   "execution_count": 96,
   "id": "a60fa6eb-bdaf-443d-8061-d3cf7701936d",
   "metadata": {},
   "outputs": [
    {
     "name": "stdout",
     "output_type": "stream",
     "text": [
      "Version GPT_loop_fusion2_omp succeeded\n",
      "ftn -O3 -hfp3 -eZ -ffree -N255 -ec -eC -eI -eF -rm -h omp -h acc -c stencil2d-GPT_loop_fusion2_omp.F90\n",
      "ftn -O3 -hfp3 -eZ -ffree -N255 -ec -eC -eI -eF -rm -h omp -h acc m_utils.o stencil2d-GPT_loop_fusion2_omp.o -o stencil2d-GPT_loop_fusion2_omp.x\n",
      "INFO: creating the PerfTools-instrumented executable 'stencil2d-GPT_loop_fusion2_omp.x' (lite-samples) ...OK\n",
      "cp stencil2d-GPT_loop_fusion2_omp.x stencil2d.x\n"
     ]
    }
   ],
   "source": [
    "test_version = \"GPT_loop_fusion2_omp\"\n",
    "compile_version(test_version, output=True)"
   ]
  },
  {
   "cell_type": "code",
   "execution_count": 97,
   "id": "23be01d3-fced-4717-911d-695b2de7802a",
   "metadata": {},
   "outputs": [
    {
     "name": "stdout",
     "output_type": "stream",
     "text": [
      "[[1.000000e+00 6.400000e+01 6.400000e+01 6.400000e+01 1.024000e+03\n",
      "  1.998777e-01]]\n"
     ]
    }
   ],
   "source": [
    "os.environ[\"OMP_NUM_THREADS\"] = \"12\"\n",
    "result = execute_version(test_version, num_iter=1024)\n",
    "print(result)"
   ]
  },
  {
   "cell_type": "code",
   "execution_count": 98,
   "id": "42964e78-f5c0-49e0-be8e-2fc99244129b",
   "metadata": {},
   "outputs": [
    {
     "name": "stderr",
     "output_type": "stream",
     "text": [
      "100%|██████████| 6/6 [00:16<00:00,  2.74s/it]\n"
     ]
    },
    {
     "data": {
      "text/plain": [
       "<matplotlib.legend.Legend at 0x1554f3193940>"
      ]
     },
     "execution_count": 98,
     "metadata": {},
     "output_type": "execute_result"
    },
    {
     "data": {
      "image/png": "[encoded data removed]",
      "text/plain": [
       "<Figure size 432x288 with 1 Axes>"
      ]
     },
     "metadata": {
      "needs_background": "light"
     },
     "output_type": "display_data"
    }
   ],
   "source": [
    "openmp_versions = [\"GPT_loop_fusion2_omp\"]\n",
    "width=0.5\n",
    "for version in openmp_versions: \n",
    "    times = []\n",
    "    core_list = np.arange(1, 7)\n",
    "    for num_cores in tqdm(core_list): \n",
    "        os.environ[\"OMP_NUM_THREADS\"] = f\"{num_cores}\"\n",
    "        result = execute_version(version, nx=128, ny=128,  num_iter=1024)\n",
    "        # print(result)\n",
    "        times.append(result[0][-1])\n",
    "    plt.bar(core_list, times, label=version)\n",
    "plt.xlabel(\"Num threads\")\n",
    "plt.ylabel(\"Execution time, s\")\n",
    "plt.legend()"
   ]
  },
  {
   "cell_type": "code",
   "execution_count": 100,
   "id": "e006ee88-a4d0-413b-b59d-56bc666383c1",
   "metadata": {},
   "outputs": [
    {
     "name": "stderr",
     "output_type": "stream",
     "text": [
      "100%|██████████| 24/24 [00:54<00:00,  2.26s/it]\n",
      "100%|██████████| 24/24 [00:58<00:00,  2.45s/it]\n"
     ]
    },
    {
     "data": {
      "text/plain": [
       "<matplotlib.legend.Legend at 0x1554f307d6d0>"
      ]
     },
     "execution_count": 100,
     "metadata": {},
     "output_type": "execute_result"
    },
    {
     "data": {
      "image/png": "[encoded data removed]",
      "text/plain": [
       "<Figure size 432x288 with 1 Axes>"
      ]
     },
     "metadata": {
      "needs_background": "light"
     },
     "output_type": "display_data"
    }
   ],
   "source": [
    "gemini_openmp = \"gemini_openmp\"\n",
    "gemini_times = []\n",
    "\n",
    "chatgpt_openmp = \"GPT_loop_fusion2_omp\"\n",
    "chatgpt_times = []\n",
    "\n",
    "core_list = np.arange(1, 25)\n",
    "width = 0.5\n",
    "\n",
    "for num_cores in tqdm(core_list): \n",
    "    os.environ[\"OMP_NUM_THREADS\"] = f\"{num_cores}\"\n",
    "    result = execute_version(gemini_openmp, nx=128, ny=128,  num_iter=1024)\n",
    "    gemini_times.append(result[0][-1])\n",
    "plt.bar(core_list, gemini_times, width, label=gemini_openmp)\n",
    "\n",
    "for num_cores in tqdm(core_list): \n",
    "    os.environ[\"OMP_NUM_THREADS\"] = f\"{num_cores}\"\n",
    "    result = execute_version(chatgpt_openmp, nx=128, ny=128,  num_iter=1024)\n",
    "    chatgpt_times.append(result[0][-1])\n",
    "plt.bar(core_list+width, chatgpt_times, width, label=chatgpt_openmp)\n",
    "plt.xlabel(\"Num threads\")\n",
    "plt.ylabel(\"Execution time, s\")\n",
    "plt.legend()"
   ]
  },
  {
   "cell_type": "code",
   "execution_count": 104,
   "id": "9c3c0bf7-7cd7-45a6-83b9-1343c6caecca",
   "metadata": {},
   "outputs": [
    {
     "data": {
      "text/plain": [
       "<matplotlib.legend.Legend at 0x1554f75bbe20>"
      ]
     },
     "execution_count": 104,
     "metadata": {},
     "output_type": "execute_result"
    },
    {
     "data": {
      "image/png": "[encoded data removed]",
      "text/plain": [
       "<Figure size 432x288 with 1 Axes>"
      ]
     },
     "metadata": {
      "needs_background": "light"
     },
     "output_type": "display_data"
    }
   ],
   "source": [
    "\n",
    "plt.bar(core_list, gemini_times, width, label=gemini_openmp)\n",
    "plt.bar(core_list+width, chatgpt_times, width, label=chatgpt_openmp)\n",
    "plt.xlim(left=0.75)\n",
    "plt.xlabel(\"Num threads\")\n",
    "plt.ylabel(\"Execution time, s\")\n",
    "plt.legend()"
   ]
  },
  {
   "cell_type": "code",
   "execution_count": 94,
   "id": "d9a94cdf-0ab4-4a3b-8ac9-a437c141a913",
   "metadata": {},
   "outputs": [
    {
     "data": {
      "image/png": "[encoded data removed]",
      "text/plain": [
       "<Figure size 864x288 with 4 Axes>"
      ]
     },
     "metadata": {
      "needs_background": "light"
     },
     "output_type": "display_data"
    }
   ],
   "source": [
    "validate_results()"
   ]
  },
  {
   "cell_type": "code",
   "execution_count": 87,
   "id": "cf394f4d-6342-4c08-bcc1-91333f42e75c",
   "metadata": {},
   "outputs": [
    {
     "data": {
      "text/plain": [
       "<matplotlib.legend.Legend at 0x1554ea538160>"
      ]
     },
     "execution_count": 87,
     "metadata": {},
     "output_type": "execute_result"
    },
    {
     "data": {
      "image/png": "[encoded data removed]",
      "text/plain": [
       "<Figure size 432x288 with 1 Axes>"
      ]
     },
     "metadata": {
      "needs_background": "light"
     },
     "output_type": "display_data"
    }
   ],
   "source": [
    "plt.bar(core_list, times, label=\"gemini\")\n",
    "plt.xlabel(\"Num threads\")\n",
    "plt.ylabel(\"Execution time, s\")\n",
    "plt.legend()"
   ]
  },
  {
   "cell_type": "code",
   "execution_count": 109,
   "id": "7d2e743a-964f-48a3-89ed-ddf54c8c2d98",
   "metadata": {},
   "outputs": [],
   "source": [
    "os.environ[\"OMP_NUM_THREADS\"] = \"12\"\n",
    "os.environ[\"OMP_WAIT_POLICY\"]=\"PASSIVE\""
   ]
  },
  {
   "cell_type": "code",
   "execution_count": 108,
   "id": "994b2981-fc97-45b5-8f35-f8f28335b91e",
   "metadata": {},
   "outputs": [],
   "source": [
    "def get_scan_data(version, nxs, nys, nz, num_iter):\n",
    "    data_sizes = []\n",
    "    times = []\n",
    "    print(f\"Executing version {version}\")\n",
    "    for nx in tqdm(nxs):\n",
    "        for ny in nys: \n",
    "            runtime = execute_version(version, nx=nx, ny=ny, nz=nz, num_iter=num_iter)[0][-1]\n",
    "            data_sizes.append(nx * ny * nz * 3 * 4)\n",
    "            times.append(runtime)\n",
    "    return np.array(data_sizes), np.array(times)"
   ]
  },
  {
   "cell_type": "code",
   "execution_count": 111,
   "id": "5a9b6d9a-d946-4ba6-9e4e-a31a80cccd58",
   "metadata": {},
   "outputs": [
    {
     "name": "stdout",
     "output_type": "stream",
     "text": [
      "Executing version orig\n"
     ]
    },
    {
     "name": "stderr",
     "output_type": "stream",
     "text": [
      "100%|██████████| 8/8 [02:15<00:00, 16.98s/it]\n"
     ]
    },
    {
     "name": "stdout",
     "output_type": "stream",
     "text": [
      "Executing version gemini_loop_fusion_v2\n"
     ]
    },
    {
     "name": "stderr",
     "output_type": "stream",
     "text": [
      "100%|██████████| 8/8 [02:04<00:00, 15.62s/it]\n"
     ]
    },
    {
     "name": "stdout",
     "output_type": "stream",
     "text": [
      "Executing version gemini_inlining_v2\n"
     ]
    },
    {
     "name": "stderr",
     "output_type": "stream",
     "text": [
      "100%|██████████| 8/8 [01:45<00:00, 13.16s/it]\n"
     ]
    },
    {
     "name": "stdout",
     "output_type": "stream",
     "text": [
      "Executing version gemini_openmp\n"
     ]
    },
    {
     "name": "stderr",
     "output_type": "stream",
     "text": [
      "100%|██████████| 8/8 [01:46<00:00, 13.28s/it]\n"
     ]
    },
    {
     "data": {
      "text/plain": [
       "<matplotlib.legend.Legend at 0x1554ea64fee0>"
      ]
     },
     "execution_count": 111,
     "metadata": {},
     "output_type": "execute_result"
    },
    {
     "data": {
      "image/png": "[encoded data removed]",
      "text/plain": [
       "<Figure size 720x432 with 1 Axes>"
      ]
     },
     "metadata": {
      "needs_background": "light"
     },
     "output_type": "display_data"
    }
   ],
   "source": [
    "nxs = 16 * np.array([5, 6, 7, 8, 10, 12, 14, 16])\n",
    "nys = 16 * np.array([5, 6, 7, 8, 10, 12, 14, 16])\n",
    "nz = 64\n",
    "num_iter = 128\n",
    "versions = [\"orig\",\n",
    "            # \"gemini_loop_fusion\",\n",
    "            \"gemini_loop_fusion_v2\",\n",
    "            # \"gemini_loop_unroll\",\n",
    "            \"gemini_inlining_v2\",\n",
    "            \"gemini_openmp\",\n",
    "           ]\n",
    "colors = [\"blue\", \n",
    "          \"red\", \n",
    "          \"green\",\n",
    "          \"pink\",\n",
    "         ]\n",
    "for version, color in zip(versions, colors):\n",
    "    data_sizes, times = get_scan_data(version, nxs, nys, nz, num_iter)\n",
    "    plt.loglog(data_sizes/ 1024. / 1024., times / data_sizes * 3 * 4 * 1e6, \".\", label=version, color=color)\n",
    "plt.xlabel( 'Working set size [MB]' );\n",
    "plt.ylabel( 'Runtime / gridpoint [µs]' );\n",
    "plt.grid(visible=True, which='both')\n",
    "fig = matplotlib.pyplot.gcf()\n",
    "fig.set_size_inches(10, 6)\n",
    "plt.legend(loc=\"upper left\")"
   ]
  },
  {
   "cell_type": "code",
   "execution_count": null,
   "id": "ed1405bd-e2f7-4593-8b2e-596875f31b0a",
   "metadata": {},
   "outputs": [],
   "source": []
  }
 ],
 "metadata": {
  "kernelspec": {
   "display_name": "HPC4WC_kernel",
   "language": "python",
   "name": "hpc4wc_kernel"
  },
  "language_info": {
   "codemirror_mode": {
    "name": "ipython",
    "version": 3
   },
   "file_extension": ".py",
   "mimetype": "text/x-python",
   "name": "python",
   "nbconvert_exporter": "python",
   "pygments_lexer": "ipython3",
   "version": "3.9.4"
  }
 },
 "nbformat": 4,
 "nbformat_minor": 5
}
