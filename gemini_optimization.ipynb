{
 "cells": [
  {
   "cell_type": "code",
   "execution_count": 1,
   "id": "a745cccb-0da3-48f1-9bef-9bfd103686e2",
   "metadata": {},
   "outputs": [],
   "source": [
    "import numpy as np\n",
    "import matplotlib\n",
    "import matplotlib.pyplot as plt\n",
    "import subprocess\n",
    "from tqdm import tqdm\n",
    "import time"
   ]
  },
  {
   "cell_type": "markdown",
   "id": "1b571361-41a2-4bd6-9ee2-86f3c028fd93",
   "metadata": {},
   "source": [
    "## Tools for loading the program versions"
   ]
  },
  {
   "cell_type": "code",
   "execution_count": 2,
   "id": "4502a17c-265e-480c-b490-6039438e45a4",
   "metadata": {},
   "outputs": [],
   "source": [
    "\n",
    "def compile_version(version, output=False):\n",
    "    try:\n",
    "        result = subprocess.check_output(f\"module load daint-gpu && module switch PrgEnv-gnu PrgEnv-cray && module load perftools-lite && cd fortran_programs && make VERSION={version} \", shell = True, executable = \"/bin/bash\", stderr = subprocess.STDOUT)\n",
    "        print(f\"Version {version} succeeded\")\n",
    "\n",
    "    except subprocess.CalledProcessError as cpe:\n",
    "        result = cpe.output\n",
    "\n",
    "    finally:   \n",
    "        if output:\n",
    "            for line in result.splitlines():\n",
    "                print(line.decode())\n",
    "\n",
    "def compile_all_versions(versions, output=False, clean_old=False):\n",
    "    if clean_old:\n",
    "        print(\"Remove all old outputs\")\n",
    "        subprocess.run(f\"cd fortran_programs && make clean\", shell = True, executable = \"/bin/bash\", stderr = subprocess.STDOUT)\n",
    "    else:\n",
    "        print(\"Not removing previously compiled programs\")\n",
    "    for version in versions:\n",
    "        compile_version(version, output)"
   ]
  },
  {
   "cell_type": "code",
   "execution_count": 3,
   "id": "9a57ad35-aba9-40f8-9f6a-5ff6c33549c0",
   "metadata": {},
   "outputs": [],
   "source": [
    "versions = [\"orig\", \"gemini_loop_fusion\", \"gemini_loop_unrolling\"]"
   ]
  },
  {
   "cell_type": "code",
   "execution_count": 4,
   "id": "9d80a7ab-500c-4739-ab8f-a1cc3f7d1f48",
   "metadata": {},
   "outputs": [
    {
     "name": "stdout",
     "output_type": "stream",
     "text": [
      "Remove all old outputs\n",
      "rm -f -rf *~ *.o *.mod *.MOD *.i core.* *.out *.lst *.x *.x+orig *.x+[0-9]* *.dat *.report result_*.py report*.txt\n",
      "Version gemini_loop_fusion succeeded\n",
      "Version gemini_loop_unrolling succeeded\n"
     ]
    }
   ],
   "source": [
    "compile_all_versions(versions, output=False, clean_old=True)"
   ]
  },
  {
   "cell_type": "code",
   "execution_count": 5,
   "id": "84e28cca-ace8-42ae-9e08-eb2252d73781",
   "metadata": {},
   "outputs": [],
   "source": [
    "def execute_version(version, nx=64, ny=64, nz=64, num_iter=1024, attempt=0):\n",
    "    try:\n",
    "        result = subprocess.check_output(f\"cd fortran_programs && srun -n 12 ./stencil2d-{version}.x+orig --nx {nx} --ny {ny} --nz {nz} --num_iter {num_iter}\", shell = True, executable = \"/bin/bash\", stderr = subprocess.STDOUT)\n",
    "    except subprocess.CalledProcessError as cpe:\n",
    "        print(\"there was an error\")\n",
    "        result = cpe.output\n",
    "    code_string = result.decode()\n",
    "    if \"Job\" in code_string and attempt < 5: \n",
    "        print(f\"Job failed with the code {code_string}\")\n",
    "        print(f\"It was attempt {attempt}, trying again\")\n",
    "        time.sleep(1)  # not sure if needed, but maybe give server some time to rest? \n",
    "        return execute_version(version, nx=nx, ny=ny, nz=nz, num_iter=num_iter, attempt=attempt+1)\n",
    "    elif \"Job\" in code_string and attempt == 5:\n",
    "        print(\"Servers are busy, ending now\")\n",
    "        return\n",
    "    exec(code_string, None, globals() )\n",
    "    return data\n",
    "\n",
    "def execute_versions(versions, nx=64, ny=64, nz=64, num_iter=1024):\n",
    "    result = {}\n",
    "    for version in versions:\n",
    "        data = execute_version(version, nx=nx, ny=ny, nz=nz, num_iter=num_iter)\n",
    "        result[version] = data\n",
    "    return result\n",
    "    "
   ]
  },
  {
   "cell_type": "code",
   "execution_count": 6,
   "id": "0a25a729-234b-4701-947a-e5b6c81386c6",
   "metadata": {},
   "outputs": [],
   "source": [
    "#result = execute_version(\"orig\", num_iter=128)\n",
    "#print(result)"
   ]
  },
  {
   "cell_type": "code",
   "execution_count": 7,
   "id": "fd4b8ca1-3772-444f-a83d-cc211f58431d",
   "metadata": {},
   "outputs": [],
   "source": [
    "def read_field_from_file(filename, num_halo=None):\n",
    "    (rank, nbits, num_halo, nx, ny, nz) = np.fromfile(filename, dtype=np.int32, count=6)\n",
    "    offset=(3 + rank) * 32 // nbits\n",
    "    data = np.fromfile(filename, dtype=np.float32 if nbits == 32 else np.float64, \\\n",
    "                       count=nz * ny * nx + offset)\n",
    "    if rank == 3:\n",
    "        return np.reshape(data[offset:], (nz, ny, nx))\n",
    "    else:\n",
    "        return np.reshape(data[offset:], (ny, nx))\n",
    "\n",
    "def validate_results():\n",
    "    fig, axs = plt.subplots(1, 2, figsize=(12, 4))\n",
    "\n",
    "    in_field = read_field_from_file('fortran_programs/in_field.dat')\n",
    "    k_lev = in_field.shape[0] // 2\n",
    "    im1 = axs[0].imshow(in_field[k_lev, :, :], origin='lower', vmin=-0.1, vmax=1.1);\n",
    "    fig.colorbar(im1, ax=axs[0]);\n",
    "    axs[0].set_title('Initial condition (k = {})'.format(k_lev));\n",
    "\n",
    "    out_field = read_field_from_file('fortran_programs/out_field.dat')\n",
    "    k_lev = out_field.shape[0] // 2\n",
    "    im2 = axs[1].imshow(out_field[k_lev, :, :], origin='lower', vmin=-0.1, vmax=1.1);\n",
    "    fig.colorbar(im2, ax=axs[1]);\n",
    "    axs[1].set_title('Final result (k = {})'.format(k_lev));\n",
    "    \n",
    "    plt.show()"
   ]
  },
  {
   "cell_type": "code",
   "execution_count": 8,
   "id": "d9a94cdf-0ab4-4a3b-8ac9-a437c141a913",
   "metadata": {},
   "outputs": [
    {
     "ename": "FileNotFoundError",
     "evalue": "[Errno 2] No such file or directory: 'fortran_programs/in_field.dat'",
     "output_type": "error",
     "traceback": [
      "\u001b[0;31m---------------------------------------------------------------------------\u001b[0m",
      "\u001b[0;31mFileNotFoundError\u001b[0m                         Traceback (most recent call last)",
      "Input \u001b[0;32mIn [8]\u001b[0m, in \u001b[0;36m<module>\u001b[0;34m\u001b[0m\n\u001b[0;32m----> 1\u001b[0m \u001b[43mvalidate_results\u001b[49m\u001b[43m(\u001b[49m\u001b[43m)\u001b[49m\n",
      "Input \u001b[0;32mIn [7]\u001b[0m, in \u001b[0;36mvalidate_results\u001b[0;34m()\u001b[0m\n\u001b[1;32m     11\u001b[0m \u001b[38;5;28;01mdef\u001b[39;00m \u001b[38;5;21mvalidate_results\u001b[39m():\n\u001b[1;32m     12\u001b[0m     fig, axs \u001b[38;5;241m=\u001b[39m plt\u001b[38;5;241m.\u001b[39msubplots(\u001b[38;5;241m1\u001b[39m, \u001b[38;5;241m2\u001b[39m, figsize\u001b[38;5;241m=\u001b[39m(\u001b[38;5;241m12\u001b[39m, \u001b[38;5;241m4\u001b[39m))\n\u001b[0;32m---> 14\u001b[0m     in_field \u001b[38;5;241m=\u001b[39m \u001b[43mread_field_from_file\u001b[49m\u001b[43m(\u001b[49m\u001b[38;5;124;43m'\u001b[39;49m\u001b[38;5;124;43mfortran_programs/in_field.dat\u001b[39;49m\u001b[38;5;124;43m'\u001b[39;49m\u001b[43m)\u001b[49m\n\u001b[1;32m     15\u001b[0m     k_lev \u001b[38;5;241m=\u001b[39m in_field\u001b[38;5;241m.\u001b[39mshape[\u001b[38;5;241m0\u001b[39m] \u001b[38;5;241m/\u001b[39m\u001b[38;5;241m/\u001b[39m \u001b[38;5;241m2\u001b[39m\n\u001b[1;32m     16\u001b[0m     im1 \u001b[38;5;241m=\u001b[39m axs[\u001b[38;5;241m0\u001b[39m]\u001b[38;5;241m.\u001b[39mimshow(in_field[k_lev, :, :], origin\u001b[38;5;241m=\u001b[39m\u001b[38;5;124m'\u001b[39m\u001b[38;5;124mlower\u001b[39m\u001b[38;5;124m'\u001b[39m, vmin\u001b[38;5;241m=\u001b[39m\u001b[38;5;241m-\u001b[39m\u001b[38;5;241m0.1\u001b[39m, vmax\u001b[38;5;241m=\u001b[39m\u001b[38;5;241m1.1\u001b[39m);\n",
      "Input \u001b[0;32mIn [7]\u001b[0m, in \u001b[0;36mread_field_from_file\u001b[0;34m(filename, num_halo)\u001b[0m\n\u001b[1;32m      1\u001b[0m \u001b[38;5;28;01mdef\u001b[39;00m \u001b[38;5;21mread_field_from_file\u001b[39m(filename, num_halo\u001b[38;5;241m=\u001b[39m\u001b[38;5;28;01mNone\u001b[39;00m):\n\u001b[0;32m----> 2\u001b[0m     (rank, nbits, num_halo, nx, ny, nz) \u001b[38;5;241m=\u001b[39m \u001b[43mnp\u001b[49m\u001b[38;5;241;43m.\u001b[39;49m\u001b[43mfromfile\u001b[49m\u001b[43m(\u001b[49m\u001b[43mfilename\u001b[49m\u001b[43m,\u001b[49m\u001b[43m \u001b[49m\u001b[43mdtype\u001b[49m\u001b[38;5;241;43m=\u001b[39;49m\u001b[43mnp\u001b[49m\u001b[38;5;241;43m.\u001b[39;49m\u001b[43mint32\u001b[49m\u001b[43m,\u001b[49m\u001b[43m \u001b[49m\u001b[43mcount\u001b[49m\u001b[38;5;241;43m=\u001b[39;49m\u001b[38;5;241;43m6\u001b[39;49m\u001b[43m)\u001b[49m\n\u001b[1;32m      3\u001b[0m     offset\u001b[38;5;241m=\u001b[39m(\u001b[38;5;241m3\u001b[39m \u001b[38;5;241m+\u001b[39m rank) \u001b[38;5;241m*\u001b[39m \u001b[38;5;241m32\u001b[39m \u001b[38;5;241m/\u001b[39m\u001b[38;5;241m/\u001b[39m nbits\n\u001b[1;32m      4\u001b[0m     data \u001b[38;5;241m=\u001b[39m np\u001b[38;5;241m.\u001b[39mfromfile(filename, dtype\u001b[38;5;241m=\u001b[39mnp\u001b[38;5;241m.\u001b[39mfloat32 \u001b[38;5;28;01mif\u001b[39;00m nbits \u001b[38;5;241m==\u001b[39m \u001b[38;5;241m32\u001b[39m \u001b[38;5;28;01melse\u001b[39;00m np\u001b[38;5;241m.\u001b[39mfloat64, \\\n\u001b[1;32m      5\u001b[0m                        count\u001b[38;5;241m=\u001b[39mnz \u001b[38;5;241m*\u001b[39m ny \u001b[38;5;241m*\u001b[39m nx \u001b[38;5;241m+\u001b[39m offset)\n",
      "\u001b[0;31mFileNotFoundError\u001b[0m: [Errno 2] No such file or directory: 'fortran_programs/in_field.dat'"
     ]
    },
    {
     "data": {
      "image/png": "[encoded data removed]",
      "text/plain": [
       "<Figure size 864x288 with 2 Axes>"
      ]
     },
     "metadata": {
      "needs_background": "light"
     },
     "output_type": "display_data"
    }
   ],
   "source": [
    "validate_results()"
   ]
  },
  {
   "cell_type": "code",
   "execution_count": 11,
   "id": "994b2981-fc97-45b5-8f35-f8f28335b91e",
   "metadata": {},
   "outputs": [],
   "source": [
    "def get_scan_data(version, nxs, nys, nz, num_iter):\n",
    "    data_sizes = []\n",
    "    times = []\n",
    "    print(f\"Executing version {version}\")\n",
    "    for nx in tqdm(nxs):\n",
    "        for ny in nys: \n",
    "            runtime = execute_version(version, nx=nx, ny=ny, nz=nz, num_iter=num_iter)[0][-1]\n",
    "            data_sizes.append(nx * ny * nz * 3 * 4)\n",
    "            times.append(runtime)\n",
    "    return np.array(data_sizes), np.array(times)"
   ]
  },
  {
   "cell_type": "code",
   "execution_count": 12,
   "id": "5a9b6d9a-d946-4ba6-9e4e-a31a80cccd58",
   "metadata": {},
   "outputs": [
    {
     "name": "stdout",
     "output_type": "stream",
     "text": [
      "Executing version orig\n"
     ]
    },
    {
     "name": "stderr",
     "output_type": "stream",
     "text": [
      "  0%|          | 0/4 [00:01<?, ?it/s]"
     ]
    },
    {
     "name": "stdout",
     "output_type": "stream",
     "text": [
      "there was an error\n"
     ]
    },
    {
     "name": "stderr",
     "output_type": "stream",
     "text": [
      "\n"
     ]
    },
    {
     "ename": "SyntaxError",
     "evalue": "invalid syntax (<string>, line 1)",
     "output_type": "error",
     "traceback": [
      "Traceback \u001b[0;36m(most recent call last)\u001b[0m:\n",
      "  File \u001b[1;32m/apps/daint/UES/jenkins/7.0.UP03/21.09/daint-gpu/software/jupyterlab/3.2.8-CrayGNU-21.09-batchspawner-cuda/lib/python3.9/site-packages/IPython/core/interactiveshell.py:3251\u001b[0m in \u001b[1;35mrun_code\u001b[0m\n    exec(code_obj, self.user_global_ns, self.user_ns)\n",
      "  Input \u001b[1;32mIn [12]\u001b[0m in \u001b[1;35m<module>\u001b[0m\n    data_sizes, times = get_scan_data(version, nxs, nys, nz, num_iter)\n",
      "  Input \u001b[1;32mIn [11]\u001b[0m in \u001b[1;35mget_scan_data\u001b[0m\n    runtime = execute_version(version, nx=nx, ny=ny, nz=nz, num_iter=num_iter)[0][-1]\n",
      "\u001b[0;36m  Input \u001b[0;32mIn [5]\u001b[0;36m in \u001b[0;35mexecute_version\u001b[0;36m\u001b[0m\n\u001b[0;31m    exec(code_string, None, globals() )\u001b[0m\n",
      "\u001b[0;36m  File \u001b[0;32m<string>:1\u001b[0;36m\u001b[0m\n\u001b[0;31m    slurmstepd: error: execve(): /users/class200/HPC4WC_Project12_AI_assited_optimization/fortran_programs/./stencil2d-orig.x+orig: No such file or directory\u001b[0m\n\u001b[0m                     ^\u001b[0m\n\u001b[0;31mSyntaxError\u001b[0m\u001b[0;31m:\u001b[0m invalid syntax\n"
     ]
    }
   ],
   "source": [
    "nxs = 16 * np.array([1, 2, 3, 4])\n",
    "nys = 16 * np.array([1, 2, 3, 4])\n",
    "nz = 64\n",
    "num_iter = 128\n",
    "versions = [\"orig\", \"gemini_loop_fusion\", \"gemini_loop_unrolling\"]\n",
    "colors = [\"blue\", \"red\", \"green\"]\n",
    "for version, color in zip(versions, colors):\n",
    "    data_sizes, times = get_scan_data(version, nxs, nys, nz, num_iter)\n",
    "    plt.loglog(data_sizes/ 1024. / 1024., times / data_sizes * 3 * 4 * 1e6, \".\", label=version, color=color)\n",
    "plt.xlabel( 'Working set size [MB]' );\n",
    "plt.ylabel( 'Runtime / gridpoint [µs]' );\n",
    "plt.grid(visible=True, which='both')\n",
    "fig = matplotlib.pyplot.gcf()\n",
    "fig.set_size_inches(10, 6)\n",
    "plt.legend(loc=\"upper left\")"
   ]
  }
 ],
 "metadata": {
  "kernelspec": {
   "display_name": "HPC4WC_kernel",
   "language": "python",
   "name": "hpc4wc_kernel"
  },
  "language_info": {
   "codemirror_mode": {
    "name": "ipython",
    "version": 3
   },
   "file_extension": ".py",
   "mimetype": "text/x-python",
   "name": "python",
   "nbconvert_exporter": "python",
   "pygments_lexer": "ipython3",
   "version": "3.9.4"
  }
 },
 "nbformat": 4,
 "nbformat_minor": 5
}
